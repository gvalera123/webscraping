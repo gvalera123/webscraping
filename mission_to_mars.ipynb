{
 "cells": [
  {
   "cell_type": "code",
   "execution_count": 1,
   "metadata": {},
   "outputs": [],
   "source": [
    "from splinter import Browser\n",
    "from bs4 import BeautifulSoup\n",
    "import pandas as pd\n",
    "import time"
   ]
  },
  {
   "cell_type": "code",
   "execution_count": 2,
   "metadata": {},
   "outputs": [],
   "source": [
    "executable_path = {'executable_path': 'chromedriver.exe'}\n",
    "browser = Browser('chrome', **executable_path, headless=False)"
   ]
  },
  {
   "cell_type": "code",
   "execution_count": 3,
   "metadata": {},
   "outputs": [],
   "source": [
    "nasa_url = 'https://mars.nasa.gov/news/?page=0&per_page=40&order=publish_date+desc%2Ccreated_at+desc&search=&category=19%2C165%2C184%2C204&blank_scope=Latest'\n",
    "browser.visit(nasa_url)\n",
    "\n",
    "html = browser.html\n",
    "soup = BeautifulSoup(html, 'html.parser')"
   ]
  },
  {
   "cell_type": "code",
   "execution_count": 4,
   "metadata": {},
   "outputs": [],
   "source": [
    "time.sleep(10)"
   ]
  },
  {
   "cell_type": "code",
   "execution_count": 5,
   "metadata": {},
   "outputs": [
    {
     "data": {
      "text/plain": [
       "[<li class=\"slide\"><div class=\"image_and_description_container\"><a href=\"/news/8386/nasa-to-host-media-call-on-next-mars-landing-site/\" target=\"_self\"><div class=\"rollover_description\"><div class=\"rollover_description_inner\">NASA will host a media teleconference at 9 a.m. PST (noon EST) Monday, Nov. 19, to provide details about the Mars 2020 rover’s landing site on the Red Planet.</div><div class=\"overlay_arrow\"><img alt=\"More\" src=\"/assets/overlay-arrow.png\"/></div></div><div class=\"list_image\"><img alt=\"This view of Mars was assembled from MOC daily global images obtained on May 12, 2003. \" src=\"/system/news_items/list_view_images/8386_mars2003_320.jpg\"/></div><div class=\"bottom_gradient\"><div><h3>NASA to Host Media Call on Next Mars Landing Site</h3></div></div></a><div class=\"list_text\"><div class=\"list_date\">November 16, 2018</div><div class=\"content_title\"><a href=\"/news/8386/nasa-to-host-media-call-on-next-mars-landing-site/\" target=\"_self\">NASA to Host Media Call on Next Mars Landing Site</a></div><div class=\"article_teaser_body\">NASA will host a media teleconference at 9 a.m. PST (noon EST) Monday, Nov. 19, to provide details about the Mars 2020 rover’s landing site on the Red Planet.</div></div></div></li>,\n",
       " <li class=\"slide\"><div class=\"image_and_description_container\"><a href=\"/news/8385/how-nasa-will-know-when-insight-touches-down/\" target=\"_self\"><div class=\"rollover_description\"><div class=\"rollover_description_inner\">On Nov. 26, engineers will look for a combination of signals to determine whether the next spacecraft to Mars lands safely.</div><div class=\"overlay_arrow\"><img alt=\"More\" src=\"/assets/overlay-arrow.png\"/></div></div><div class=\"list_image\"><img alt=\"This animation depicts the MarCO CubeSats relaying data from NASA's InSight lander as it enters the Martian atmosphere.\" src=\"/system/news_items/list_view_images/8385_PIA22738-th.jpg\"/></div><div class=\"bottom_gradient\"><div><h3>How NASA Will Know When InSight Touches Down</h3></div></div></a><div class=\"list_text\"><div class=\"list_date\">November 16, 2018</div><div class=\"content_title\"><a href=\"/news/8385/how-nasa-will-know-when-insight-touches-down/\" target=\"_self\">How NASA Will Know When InSight Touches Down</a></div><div class=\"article_teaser_body\">On Nov. 26, engineers will look for a combination of signals to determine whether the next spacecraft to Mars lands safely.</div></div></div></li>,\n",
       " <li class=\"slide\"><div class=\"image_and_description_container\"><a href=\"/news/8384/nasa-brings-mars-landing-to-viewers-everywhere/\" target=\"_self\"><div class=\"rollover_description\"><div class=\"rollover_description_inner\">NASA's InSight lander is scheduled to touch down on the Red Planet at approximately noon PST  on Nov. 26, with a new suite of instruments to probe below the Martian surface.</div><div class=\"overlay_arrow\"><img alt=\"More\" src=\"/assets/overlay-arrow.png\"/></div></div><div class=\"list_image\"><img alt=\"This illustration shows a simulated view of NASA's InSight lander firing retrorockets to slow down as it descends toward the surface of Mars.\" src=\"/system/news_items/list_view_images/8384_PIA22810_320.jpg\"/></div><div class=\"bottom_gradient\"><div><h3>NASA Brings Mars Landing to Viewers Everywhere</h3></div></div></a><div class=\"list_text\"><div class=\"list_date\">November 13, 2018</div><div class=\"content_title\"><a href=\"/news/8384/nasa-brings-mars-landing-to-viewers-everywhere/\" target=\"_self\">NASA Brings Mars Landing to Viewers Everywhere</a></div><div class=\"article_teaser_body\">NASA's InSight lander is scheduled to touch down on the Red Planet at approximately noon PST  on Nov. 26, with a new suite of instruments to probe below the Martian surface.</div></div></div></li>,\n",
       " <li class=\"slide\"><div class=\"image_and_description_container\"><a href=\"/news/8371/curiosity-on-the-move-again/\" target=\"_self\"><div class=\"rollover_description\"><div class=\"rollover_description_inner\">NASA's Mars Curiosity rover drove about 197 feet over the weekend to a site called Lake Orcadie, pushing its total odometry to over 12 miles.</div><div class=\"overlay_arrow\"><img alt=\"More\" src=\"/assets/overlay-arrow.png\"/></div></div><div class=\"list_image\"><img alt=\"A self-portrait of NASA's Curiosity rover taken on Sol 2082 (June 15, 2018). A Martian dust storm has reduced sunlight and visibility at the rover's location in Gale Crater.\" src=\"/system/news_items/list_view_images/8371_PIA22486_320x240.jpg\"/></div><div class=\"bottom_gradient\"><div><h3>Curiosity on the Move Again</h3></div></div></a><div class=\"list_text\"><div class=\"list_date\">November  6, 2018</div><div class=\"content_title\"><a href=\"/news/8371/curiosity-on-the-move-again/\" target=\"_self\">Curiosity on the Move Again</a></div><div class=\"article_teaser_body\">NASA's Mars Curiosity rover drove about 197 feet over the weekend to a site called Lake Orcadie, pushing its total odometry to over 12 miles.</div></div></div></li>,\n",
       " <li class=\"slide\"><div class=\"image_and_description_container\"><a href=\"/news/8383/the-mars-insight-landing-site-is-just-plain-perfect/\" target=\"_self\"><div class=\"rollover_description\"><div class=\"rollover_description_inner\">If the InSight landing zone were ice cream, it would be vanilla.</div><div class=\"overlay_arrow\"><img alt=\"More\" src=\"/assets/overlay-arrow.png\"/></div></div><div class=\"list_image\"><img alt=\"This artist’s concept depicts the smooth, flat ground that dominates InSight's landing ellipse in the Elysium Planitia region of Mars. \" src=\"/system/news_items/list_view_images/8383_PIA22743-320x240.jpg\"/></div><div class=\"bottom_gradient\"><div><h3>The Mars InSight Landing Site Is Just Plain Perfect</h3></div></div></a><div class=\"list_text\"><div class=\"list_date\">November  5, 2018</div><div class=\"content_title\"><a href=\"/news/8383/the-mars-insight-landing-site-is-just-plain-perfect/\" target=\"_self\">The Mars InSight Landing Site Is Just Plain Perfect</a></div><div class=\"article_teaser_body\">If the InSight landing zone were ice cream, it would be vanilla.</div></div></div></li>,\n",
       " <li class=\"slide\"><div class=\"image_and_description_container\"><a href=\"/news/8382/five-things-to-know-about-insights-mars-landing/\" target=\"_self\"><div class=\"rollover_description\"><div class=\"rollover_description_inner\">NASA engineers will be holding their breath when their spacecraft heads into Mars' atmosphere on Nov. 26.</div><div class=\"overlay_arrow\"><img alt=\"More\" src=\"/assets/overlay-arrow.png\"/></div></div><div class=\"list_image\"><img alt=\"This is an illustration showing a simulated view of NASA's InSight lander about to land on the surface of Mars. This view shows the underside of the spacecraft\" src=\"/system/news_items/list_view_images/8382_22097_PIA22812-320x240.jpg\"/></div><div class=\"bottom_gradient\"><div><h3>Five Things to Know About InSight's Mars Landing</h3></div></div></a><div class=\"list_text\"><div class=\"list_date\">October 31, 2018</div><div class=\"content_title\"><a href=\"/news/8382/five-things-to-know-about-insights-mars-landing/\" target=\"_self\">Five Things to Know About InSight's Mars Landing</a></div><div class=\"article_teaser_body\">NASA engineers will be holding their breath when their spacecraft heads into Mars' atmosphere on Nov. 26.</div></div></div></li>,\n",
       " <li class=\"slide\"><div class=\"image_and_description_container\"><a href=\"/news/8381/nasa-launches-a-new-podcast-to-mars/\" target=\"_self\"><div class=\"rollover_description\"><div class=\"rollover_description_inner\">NASA's new eight-episode series 'On a Mission' follows the InSight spacecraft on its journey to Mars and details the extraordinary challenges of landing on the Red Planet.</div><div class=\"overlay_arrow\"><img alt=\"More\" src=\"/assets/overlay-arrow.png\"/></div></div><div class=\"list_image\"><img alt='A new NASA podcast \"On a Mission\"' src=\"/system/news_items/list_view_images/8381_On_A_Mission_Podcast_Logo-320x240.jpg\"/></div><div class=\"bottom_gradient\"><div><h3>NASA Launches a New Podcast to Mars</h3></div></div></a><div class=\"list_text\"><div class=\"list_date\">October 29, 2018</div><div class=\"content_title\"><a href=\"/news/8381/nasa-launches-a-new-podcast-to-mars/\" target=\"_self\">NASA Launches a New Podcast to Mars</a></div><div class=\"article_teaser_body\">NASA's new eight-episode series 'On a Mission' follows the InSight spacecraft on its journey to Mars and details the extraordinary challenges of landing on the Red Planet.</div></div></div></li>,\n",
       " <li class=\"slide\"><div class=\"image_and_description_container\"><a href=\"/news/8364/update-on-opportunity-rover-recovery-efforts/\" target=\"_self\"><div class=\"rollover_description\"><div class=\"rollover_description_inner\">After a review of the progress of the listening campaign, NASA will continue its current strategy for attempting to make contact with the Opportunity rover for the foreseeable future.</div><div class=\"overlay_arrow\"><img alt=\"More\" src=\"/assets/overlay-arrow.png\"/></div></div><div class=\"list_image\"><img alt=\"This June 2017 view from the Pancam on NASA's Opportunity Mars rover shows the area just above &quot;Perseverance Valley&quot; on a large crater's rim. A broad notch in the crest of the rim, at right, might have been a spillway for a fluid that carved the valley, out of sight on the other side of the rim.\" src=\"/system/news_items/list_view_images/8364_PIA21723-16bth.jpg\"/></div><div class=\"bottom_gradient\"><div><h3>Update on Opportunity Rover Recovery Efforts</h3></div></div></a><div class=\"list_text\"><div class=\"list_date\">October 29, 2018</div><div class=\"content_title\"><a href=\"/news/8364/update-on-opportunity-rover-recovery-efforts/\" target=\"_self\">Update on Opportunity Rover Recovery Efforts</a></div><div class=\"article_teaser_body\">After a review of the progress of the listening campaign, NASA will continue its current strategy for attempting to make contact with the Opportunity rover for the foreseeable future.</div></div></div></li>,\n",
       " <li class=\"slide\"><div class=\"image_and_description_container\"><a href=\"/news/8380/third-aspire-test-confirms-mars-2020-parachute-a-go/\" target=\"_self\"><div class=\"rollover_description\"><div class=\"rollover_description_inner\">The supersonic parachute that will handle the heaviest payload yet to the Red Planet – Mars 2020 rover – passes its final sounding rocket test with flying colors.</div><div class=\"overlay_arrow\"><img alt=\"More\" src=\"/assets/overlay-arrow.png\"/></div></div><div class=\"list_image\"><img alt=\"\" src=\"/system/news_items/list_view_images/8380_parachute-16-th.jpg\"/></div><div class=\"bottom_gradient\"><div><h3>Third ASPIRE Test Confirms Mars 2020 Parachute a Go</h3></div></div></a><div class=\"list_text\"><div class=\"list_date\">October 26, 2018</div><div class=\"content_title\"><a href=\"/news/8380/third-aspire-test-confirms-mars-2020-parachute-a-go/\" target=\"_self\">Third ASPIRE Test Confirms Mars 2020 Parachute a Go</a></div><div class=\"article_teaser_body\">The supersonic parachute that will handle the heaviest payload yet to the Red Planet – Mars 2020 rover – passes its final sounding rocket test with flying colors.</div></div></div></li>,\n",
       " <li class=\"slide\"><div class=\"image_and_description_container\"><a href=\"/news/8379/nasa-to-host-briefing-on-november-mars-insight-landing/\" target=\"_self\"><div class=\"rollover_description\"><div class=\"rollover_description_inner\">A briefing on NASA's upcoming InSight Mars landing will air on Wed. Oct. 31 at 1:30 p.m. EDT (10:30 a.m. PDT) on NASA TV, the agency's website and NASA InSight Facebook Page.</div><div class=\"overlay_arrow\"><img alt=\"More\" src=\"/assets/overlay-arrow.png\"/></div></div><div class=\"list_image\"><img alt=\"An artist illustration of the InSight lander on Mars.\" src=\"/system/news_items/list_view_images/8379_insight-impression-320x240.jpg\"/></div><div class=\"bottom_gradient\"><div><h3>NASA to Host Briefing on November Mars InSight Landing</h3></div></div></a><div class=\"list_text\"><div class=\"list_date\">October 25, 2018</div><div class=\"content_title\"><a href=\"/news/8379/nasa-to-host-briefing-on-november-mars-insight-landing/\" target=\"_self\">NASA to Host Briefing on November Mars InSight Landing</a></div><div class=\"article_teaser_body\">A briefing on NASA's upcoming InSight Mars landing will air on Wed. Oct. 31 at 1:30 p.m. EDT (10:30 a.m. PDT) on NASA TV, the agency's website and NASA InSight Facebook Page.</div></div></div></li>,\n",
       " <li class=\"slide\"><div class=\"image_and_description_container\"><a href=\"/news/8378/nasas-insight-will-study-mars-while-standing-still/\" target=\"_self\"><div class=\"rollover_description\"><div class=\"rollover_description_inner\">The lander's unique science can teach us how planets are born.</div><div class=\"overlay_arrow\"><img alt=\"More\" src=\"/assets/overlay-arrow.png\"/></div></div><div class=\"list_image\"><img alt=\"This artist's concept depicts NASA's InSight lander after it has deployed its instruments on the Martian surface.\" src=\"/system/news_items/list_view_images/8378_PIA22743-320x240.jpg\"/></div><div class=\"bottom_gradient\"><div><h3>NASA's InSight Will Study Mars While Standing Still</h3></div></div></a><div class=\"list_text\"><div class=\"list_date\">October 24, 2018</div><div class=\"content_title\"><a href=\"/news/8378/nasas-insight-will-study-mars-while-standing-still/\" target=\"_self\">NASA's InSight Will Study Mars While Standing Still</a></div><div class=\"article_teaser_body\">The lander's unique science can teach us how planets are born.</div></div></div></li>,\n",
       " <li class=\"slide\"><div class=\"image_and_description_container\"><a href=\"/news/8377/nasas-first-image-of-mars-from-a-cubesat/\" target=\"_self\"><div class=\"rollover_description\"><div class=\"rollover_description_inner\">The image was produced by one of the twin briefcase-sized MarCO spacecraft, the first CubeSats to fly to deep space.</div><div class=\"overlay_arrow\"><img alt=\"More\" src=\"/assets/overlay-arrow.png\"/></div></div><div class=\"list_image\"><img alt=\"One of the twin MarCO CubeSats snapped this image of Mars on Oct. 3 – the first image of the Red Planet ever produced by this class of tiny, low-cost spacecraft.\" src=\"/system/news_items/list_view_images/8377_PIA22742_320.jpg\"/></div><div class=\"bottom_gradient\"><div><h3>NASA's First Image of Mars from a CubeSat</h3></div></div></a><div class=\"list_text\"><div class=\"list_date\">October 22, 2018</div><div class=\"content_title\"><a href=\"/news/8377/nasas-first-image-of-mars-from-a-cubesat/\" target=\"_self\">NASA's First Image of Mars from a CubeSat</a></div><div class=\"article_teaser_body\">The image was produced by one of the twin briefcase-sized MarCO spacecraft, the first CubeSats to fly to deep space.</div></div></div></li>,\n",
       " <li class=\"slide\"><div class=\"image_and_description_container\"><a href=\"/news/8375/the-claw-game-on-mars-nasa-insight-plays-to-win/\" target=\"_self\"><div class=\"rollover_description\"><div class=\"rollover_description_inner\">NASA's InSight lander will be the first mission to use a robotic arm to grasp instruments from the spacecraft and place them on the surface of another planet. </div><div class=\"overlay_arrow\"><img alt=\"More\" src=\"/assets/overlay-arrow.png\"/></div></div><div class=\"list_image\"><img alt=\"NASA’s InSight mission tests an engineering version of the spacecraft’s robotic arm in a Mars-like environment at NASA’s Jet Propulsion Laboratory. \" src=\"/system/news_items/list_view_images/8375_PIA22806-320.jpg\"/></div><div class=\"bottom_gradient\"><div><h3>The 'Claw Game' on Mars: NASA InSight Plays to Win</h3></div></div></a><div class=\"list_text\"><div class=\"list_date\">October 16, 2018</div><div class=\"content_title\"><a href=\"/news/8375/the-claw-game-on-mars-nasa-insight-plays-to-win/\" target=\"_self\">The 'Claw Game' on Mars: NASA InSight Plays to Win</a></div><div class=\"article_teaser_body\">NASA's InSight lander will be the first mission to use a robotic arm to grasp instruments from the spacecraft and place them on the surface of another planet. </div></div></div></li>,\n",
       " <li class=\"slide\"><div class=\"image_and_description_container\"><a href=\"/news/8376/scientists-to-debate-landing-site-for-next-mars-rover/\" target=\"_self\"><div class=\"rollover_description\"><div class=\"rollover_description_inner\">Hundreds of scientists and Mars-exploration enthusiasts gather this week to present, discuss and deliberate the future landing site for NASA's next Red Planet. </div><div class=\"overlay_arrow\"><img alt=\"More\" src=\"/assets/overlay-arrow.png\"/></div></div><div class=\"list_image\"><img alt=\"This artist's rendition depicts NASA's Mars 2020 rover studying a Mars rock outrcrop.\" src=\"/system/news_items/list_view_images/8376_PIA22105-320x240.jpg\"/></div><div class=\"bottom_gradient\"><div><h3>Scientists to Debate Landing Site for Next Mars Rover</h3></div></div></a><div class=\"list_text\"><div class=\"list_date\">October 15, 2018</div><div class=\"content_title\"><a href=\"/news/8376/scientists-to-debate-landing-site-for-next-mars-rover/\" target=\"_self\">Scientists to Debate Landing Site for Next Mars Rover</a></div><div class=\"article_teaser_body\">Hundreds of scientists and Mars-exploration enthusiasts gather this week to present, discuss and deliberate the future landing site for NASA's next Red Planet. </div></div></div></li>,\n",
       " <li class=\"slide\"><div class=\"image_and_description_container\"><a href=\"/news/8374/mars-virtual-reality-software-wins-nasa-award/\" target=\"_self\"><div class=\"rollover_description\"><div class=\"rollover_description_inner\">A mixed-reality software that allows scientists and engineers to virtually walk on Mars has received NASA's 2018 Software of the Year Award.</div><div class=\"overlay_arrow\"><img alt=\"More\" src=\"/assets/overlay-arrow.png\"/></div></div><div class=\"list_image\"><img alt=\"This is an image of Apollo 11 astronaut Buzz Aldrin and Erisa Hines of NASA's Jet Propulsion Laboratory trying out the Microsoft HoloLens mixed reality headset during a preview of &quot;Destination: Mars&quot; at Kennedy Space Center visitor complex in Florida. \" src=\"/system/news_items/list_view_images/8374_onsight20181002-16_320x240.jpg\"/></div><div class=\"bottom_gradient\"><div><h3>Mars Virtual Reality Software Wins NASA Award</h3></div></div></a><div class=\"list_text\"><div class=\"list_date\">October 10, 2018</div><div class=\"content_title\"><a href=\"/news/8374/mars-virtual-reality-software-wins-nasa-award/\" target=\"_self\">Mars Virtual Reality Software Wins NASA Award</a></div><div class=\"article_teaser_body\">A mixed-reality software that allows scientists and engineers to virtually walk on Mars has received NASA's 2018 Software of the Year Award.</div></div></div></li>,\n",
       " <li class=\"slide\"><div class=\"image_and_description_container\"><a href=\"/news/8373/painting-cars-for-mars/\" target=\"_self\"><div class=\"rollover_description\"><div class=\"rollover_description_inner\">What does NASA do to get a rover ready for Mars? JPL's paint shop does a thousand different paint jobs a year. And while every piece of spacecraft that comes through the shop is important, one headed for the Red Planet adds a little extra oomph.</div><div class=\"overlay_arrow\"><img alt=\"More\" src=\"/assets/overlay-arrow.png\"/></div></div><div class=\"list_image\"><img alt=\"\" src=\"/system/news_items/list_view_images/8373_mars20181004-320.jpg\"/></div><div class=\"bottom_gradient\"><div><h3>Painting Cars for Mars</h3></div></div></a><div class=\"list_text\"><div class=\"list_date\">October  9, 2018</div><div class=\"content_title\"><a href=\"/news/8373/painting-cars-for-mars/\" target=\"_self\">Painting Cars for Mars</a></div><div class=\"article_teaser_body\">What does NASA do to get a rover ready for Mars? JPL's paint shop does a thousand different paint jobs a year. And while every piece of spacecraft that comes through the shop is important, one headed for the Red Planet adds a little extra oomph.</div></div></div></li>,\n",
       " <li class=\"slide\"><div class=\"image_and_description_container\"><a href=\"/news/8370/opportunity-emerges-in-a-dusty-picture/\" target=\"_self\"><div class=\"rollover_description\"><div class=\"rollover_description_inner\">NASA still hasn't heard from the Opportunity rover, but at least the agency can see it again.</div><div class=\"overlay_arrow\"><img alt=\"More\" src=\"/assets/overlay-arrow.png\"/></div></div><div class=\"list_image\"><img alt=\"\" src=\"/system/news_items/list_view_images/8370_Oppy-box-320x260.jpg\"/></div><div class=\"bottom_gradient\"><div><h3>Opportunity Emerges in a Dusty Picture</h3></div></div></a><div class=\"list_text\"><div class=\"list_date\">September 25, 2018</div><div class=\"content_title\"><a href=\"/news/8370/opportunity-emerges-in-a-dusty-picture/\" target=\"_self\">Opportunity Emerges in a Dusty Picture</a></div><div class=\"article_teaser_body\">NASA still hasn't heard from the Opportunity rover, but at least the agency can see it again.</div></div></div></li>,\n",
       " <li class=\"slide\"><div class=\"image_and_description_container\"><a href=\"/news/8369/nasa-seeking-partner-in-contest-to-name-next-mars-rover/\" target=\"_self\"><div class=\"rollover_description\"><div class=\"rollover_description_inner\">NASA has a class assignment for corporations, nonprofits and educational organizations involved in science and space exploration: partner with the agency to inspire future engineers and scientists by sponsoring a contest to name the next rover to venture to the Red Planet.</div><div class=\"overlay_arrow\"><img alt=\"More\" src=\"/assets/overlay-arrow.png\"/></div></div><div class=\"list_image\"><img alt=\"This artist's rendition depicts NASA's Mars 2020 rover studying its surroundings. Mars 2020 is targeted for launch in July or August 2020 from the Cape Canaveral Air Force Station in Florida.\" src=\"/system/news_items/list_view_images/8369_PIA22109-16_320x240.jpg\"/></div><div class=\"bottom_gradient\"><div><h3>NASA Seeking Partner in Contest to Name Next Mars Rover</h3></div></div></a><div class=\"list_text\"><div class=\"list_date\">September 21, 2018</div><div class=\"content_title\"><a href=\"/news/8369/nasa-seeking-partner-in-contest-to-name-next-mars-rover/\" target=\"_self\">NASA Seeking Partner in Contest to Name Next Mars Rover</a></div><div class=\"article_teaser_body\">NASA has a class assignment for corporations, nonprofits and educational organizations involved in science and space exploration: partner with the agency to inspire future engineers and scientists by sponsoring a contest to name the next rover to venture to the Red Planet.</div></div></div></li>,\n",
       " <li class=\"slide\"><div class=\"image_and_description_container\"><a href=\"/news/8368/nasas-maven-selfie-marks-four-years-in-orbit-at-mars/\" target=\"_self\"><div class=\"rollover_description\"><div class=\"rollover_description_inner\">NASA’s MAVEN spacecraft celebrates four years in Mars orbit with a selfie.</div><div class=\"overlay_arrow\"><img alt=\"More\" src=\"/assets/overlay-arrow.png\"/></div></div><div class=\"list_image\"><img alt=\"This is an unannotated composite selfie of the MAVEN spacecraft.\" src=\"/system/news_items/list_view_images/8368_selfie_composite_unannotated-14sep_320x240.jpg\"/></div><div class=\"bottom_gradient\"><div><h3>NASA's MAVEN Selfie Marks Four Years in Orbit at Mars</h3></div></div></a><div class=\"list_text\"><div class=\"list_date\">September 21, 2018</div><div class=\"content_title\"><a href=\"/news/8368/nasas-maven-selfie-marks-four-years-in-orbit-at-mars/\" target=\"_self\">NASA's MAVEN Selfie Marks Four Years in Orbit at Mars</a></div><div class=\"article_teaser_body\">NASA’s MAVEN spacecraft celebrates four years in Mars orbit with a selfie.</div></div></div></li>,\n",
       " <li class=\"slide\"><div class=\"image_and_description_container\"><a href=\"/news/8367/marco-makes-space-for-small-explorers/\" target=\"_self\"><div class=\"rollover_description\"><div class=\"rollover_description_inner\">A pair of NASA CubeSats flying to Mars are opening a new frontier for small spacecraft.</div><div class=\"overlay_arrow\"><img alt=\"More\" src=\"/assets/overlay-arrow.png\"/></div></div><div class=\"list_image\"><img alt=\"Engineer Joel Steinkraus uses sunlight to test the solar arrays on one of the Mars Cube One (MarCO) spacecraft.\" src=\"/system/news_items/list_view_images/8367_PIA22317_320x240.jpg\"/></div><div class=\"bottom_gradient\"><div><h3>MarCO Makes Space for Small Explorers</h3></div></div></a><div class=\"list_text\"><div class=\"list_date\">September 13, 2018</div><div class=\"content_title\"><a href=\"/news/8367/marco-makes-space-for-small-explorers/\" target=\"_self\">MarCO Makes Space for Small Explorers</a></div><div class=\"article_teaser_body\">A pair of NASA CubeSats flying to Mars are opening a new frontier for small spacecraft.</div></div></div></li>,\n",
       " <li class=\"slide\"><div class=\"image_and_description_container\"><a href=\"/news/8365/curiosity-surveys-a-mystery-under-dusty-skies/\" target=\"_self\"><div class=\"rollover_description\"><div class=\"rollover_description_inner\">NASA's Curiosity rover surveyed its surroundings on Mars, producing a 360-degree panorama of its current location on Vera Rubin Ridge.</div><div class=\"overlay_arrow\"><img alt=\"More\" src=\"/assets/overlay-arrow.png\"/></div></div><div class=\"list_image\"><img alt=\"NASA's Curiosity rover surveyed its surroundings on Mars, producing a 360-degree panorama of its current location on Vera Rubin Ridge.\" src=\"/system/news_items/list_view_images/8365_curiosity20180830-th.jpg\"/></div><div class=\"bottom_gradient\"><div><h3>Curiosity Surveys a Mystery Under Dusty Skies</h3></div></div></a><div class=\"list_text\"><div class=\"list_date\">September  6, 2018</div><div class=\"content_title\"><a href=\"/news/8365/curiosity-surveys-a-mystery-under-dusty-skies/\" target=\"_self\">Curiosity Surveys a Mystery Under Dusty Skies</a></div><div class=\"article_teaser_body\">NASA's Curiosity rover surveyed its surroundings on Mars, producing a 360-degree panorama of its current location on Vera Rubin Ridge.</div></div></div></li>,\n",
       " <li class=\"slide\"><div class=\"image_and_description_container\"><a href=\"/news/8363/nasas-insight-has-a-thermometer-for-mars/\" target=\"_self\"><div class=\"rollover_description\"><div class=\"rollover_description_inner\">The mission's heat probe could reveal how the planet's towering volcanoes formed.</div><div class=\"overlay_arrow\"><img alt=\"More\" src=\"/assets/overlay-arrow.png\"/></div></div><div class=\"list_image\"><img alt=\"\" src=\"/system/news_items/list_view_images/8363_marsmountain20180828-320.jpg\"/></div><div class=\"bottom_gradient\"><div><h3>NASA's InSight Has a Thermometer for Mars</h3></div></div></a><div class=\"list_text\"><div class=\"list_date\">August 28, 2018</div><div class=\"content_title\"><a href=\"/news/8363/nasas-insight-has-a-thermometer-for-mars/\" target=\"_self\">NASA's InSight Has a Thermometer for Mars</a></div><div class=\"article_teaser_body\">The mission's heat probe could reveal how the planet's towering volcanoes formed.</div></div></div></li>,\n",
       " <li class=\"slide\"><div class=\"image_and_description_container\"><a href=\"/news/8362/digital-creators-apply-for-nasa-mars-landing-event/\" target=\"_self\"><div class=\"rollover_description\"><div class=\"rollover_description_inner\">Up to 30 multimedia participants will be selected for a special two-day event at JPL culminating in the InSight spacecraft's landing on Mars. Apply by Sept. 3.</div><div class=\"overlay_arrow\"><img alt=\"More\" src=\"/assets/overlay-arrow.png\"/></div></div><div class=\"list_image\"><img alt=\"Stu Spath of Lockheed Martin Space discusses NASA's InSight mission to Mars during a prelaunch briefing covered by NASA Social participants on Thursday, May 3, 2018, at Vandenberg Air Force Base in California. \" src=\"/system/news_items/list_view_images/8362_insight_nasa_social-320x240.jpg\"/></div><div class=\"bottom_gradient\"><div><h3>Digital Creators: Apply for NASA Mars Landing Event</h3></div></div></a><div class=\"list_text\"><div class=\"list_date\">August 24, 2018</div><div class=\"content_title\"><a href=\"/news/8362/digital-creators-apply-for-nasa-mars-landing-event/\" target=\"_self\">Digital Creators: Apply for NASA Mars Landing Event</a></div><div class=\"article_teaser_body\">Up to 30 multimedia participants will be selected for a special two-day event at JPL culminating in the InSight spacecraft's landing on Mars. Apply by Sept. 3.</div></div></div></li>,\n",
       " <li class=\"slide\"><div class=\"image_and_description_container\"><a href=\"/news/8361/nasas-insight-passes-halfway-to-mars-instruments-check-in/\" target=\"_self\"><div class=\"rollover_description\"><div class=\"rollover_description_inner\">NASA's InSight spacecraft, en route to a Nov. 26 landing on Mars, passed the halfway mark on Aug. 6. All of its instruments have been tested and are working well.</div><div class=\"overlay_arrow\"><img alt=\"More\" src=\"/assets/overlay-arrow.png\"/></div></div><div class=\"list_image\"><img alt=\"This artist's concept shows the InSight spacecraft, encapsulated in its aeroshell, as it cruises to Mars.\" src=\"/system/news_items/list_view_images/8361_insight_cruise_starfield-320.jpg\"/></div><div class=\"bottom_gradient\"><div><h3>NASA's InSight Passes Halfway to Mars, Instruments Check In</h3></div></div></a><div class=\"list_text\"><div class=\"list_date\">August 20, 2018</div><div class=\"content_title\"><a href=\"/news/8361/nasas-insight-passes-halfway-to-mars-instruments-check-in/\" target=\"_self\">NASA's InSight Passes Halfway to Mars, Instruments Check In</a></div><div class=\"article_teaser_body\">NASA's InSight spacecraft, en route to a Nov. 26 landing on Mars, passed the halfway mark on Aug. 6. All of its instruments have been tested and are working well.</div></div></div></li>,\n",
       " <li class=\"slide\"><div class=\"image_and_description_container\"><a href=\"/news/8360/six-things-about-opportunitys-recovery-efforts/\" target=\"_self\"><div class=\"rollover_description\"><div class=\"rollover_description_inner\">The global dust storm on Mars could soon let in enough sunlight for the Opportunity rover to recharge.</div><div class=\"overlay_arrow\"><img alt=\"More\" src=\"/assets/overlay-arrow.png\"/></div></div><div class=\"list_image\"><img alt=\"\" src=\"/system/news_items/list_view_images/8360_8354_Mars_Dust_Storm_PIA22487_thumb.jpg\"/></div><div class=\"bottom_gradient\"><div><h3>Six Things About Opportunity's Recovery Efforts</h3></div></div></a><div class=\"list_text\"><div class=\"list_date\">August 16, 2018</div><div class=\"content_title\"><a href=\"/news/8360/six-things-about-opportunitys-recovery-efforts/\" target=\"_self\">Six Things About Opportunity's Recovery Efforts</a></div><div class=\"article_teaser_body\">The global dust storm on Mars could soon let in enough sunlight for the Opportunity rover to recharge.</div></div></div></li>,\n",
       " <li class=\"slide\"><div class=\"image_and_description_container\"><a href=\"/news/8359/meet-the-people-behind-nasas-insight-mars-lander/\" target=\"_self\"><div class=\"rollover_description\"><div class=\"rollover_description_inner\">A series of NASA videos highlight scientists and engineers leading the next mission to Mars.</div><div class=\"overlay_arrow\"><img alt=\"More\" src=\"/assets/overlay-arrow.png\"/></div></div><div class=\"list_image\"><img alt=\"L-R: Troy Hudson, Ravi Prakash and Marleen Sundgaard as they appear in a new video series profiling the scientists and engineers behind NASA's InSight spacecraft. Credit: NASA 360\" src=\"/system/news_items/list_view_images/8359_people20180802-th.jpg\"/></div><div class=\"bottom_gradient\"><div><h3>Meet the People Behind NASA's InSight Mars Lander</h3></div></div></a><div class=\"list_text\"><div class=\"list_date\">August  2, 2018</div><div class=\"content_title\"><a href=\"/news/8359/meet-the-people-behind-nasas-insight-mars-lander/\" target=\"_self\">Meet the People Behind NASA's InSight Mars Lander</a></div><div class=\"article_teaser_body\">A series of NASA videos highlight scientists and engineers leading the next mission to Mars.</div></div></div></li>,\n",
       " <li class=\"slide\"><div class=\"image_and_description_container\"><a href=\"/news/8358/mars-terraforming-not-possible-using-present-day-technology/\" target=\"_self\"><div class=\"rollover_description\"><div class=\"rollover_description_inner\">Transforming the inhospitable Martian environment into a place astronauts could explore without life support is not possible without technology well beyond today’s capabilities.</div><div class=\"overlay_arrow\"><img alt=\"More\" src=\"/assets/overlay-arrow.png\"/></div></div><div class=\"list_image\"><img alt=\"This is an artist's model of an early Mars - billions of years ago - which may have had oceans and a thicker atmosphere. It was created by filling Mars' lower altitudes with water and adding cloud cover.\" src=\"/system/news_items/list_view_images/8358_maven20180730-320x240.jpg\"/></div><div class=\"bottom_gradient\"><div><h3>Mars Terraforming Not Possible Using Present-Day Technology</h3></div></div></a><div class=\"list_text\"><div class=\"list_date\">July 30, 2018</div><div class=\"content_title\"><a href=\"/news/8358/mars-terraforming-not-possible-using-present-day-technology/\" target=\"_self\">Mars Terraforming Not Possible Using Present-Day Technology</a></div><div class=\"article_teaser_body\">Transforming the inhospitable Martian environment into a place astronauts could explore without life support is not possible without technology well beyond today’s capabilities.</div></div></div></li>,\n",
       " <li class=\"slide\"><div class=\"image_and_description_container\"><a href=\"/news/8348/opportunity-hunkers-down-during-dust-storm/\" target=\"_self\"><div class=\"rollover_description\"><div class=\"rollover_description_inner\">It's the beginning of the end for the planet-encircling dust storm on Mars. But it could still be weeks, or even months, before skies are clear enough for NASA's Opportunity rover to recharge its batteries and phone home. </div><div class=\"overlay_arrow\"><img alt=\"More\" src=\"/assets/overlay-arrow.png\"/></div></div><div class=\"list_image\"><img alt=\"This series of images shows simulated views of a darkening Martian sky blotting out the Sun from NASA’s Opportunity rover’s point of view, with the right side simulating Opportunity’s current view in the global dust storm (June 2018). \" src=\"/system/news_items/list_view_images/8348_PIA22521-320.jpg\"/></div><div class=\"bottom_gradient\"><div><h3>Opportunity Hunkers Down During Dust Storm</h3></div></div></a><div class=\"list_text\"><div class=\"list_date\">July 26, 2018</div><div class=\"content_title\"><a href=\"/news/8348/opportunity-hunkers-down-during-dust-storm/\" target=\"_self\">Opportunity Hunkers Down During Dust Storm</a></div><div class=\"article_teaser_body\">It's the beginning of the end for the planet-encircling dust storm on Mars. But it could still be weeks, or even months, before skies are clear enough for NASA's Opportunity rover to recharge its batteries and phone home. </div></div></div></li>,\n",
       " <li class=\"slide\"><div class=\"image_and_description_container\"><a href=\"/news/8357/nasa-statement-on-possible-subsurface-lake-near-martian-south-pole/\" target=\"_self\"><div class=\"rollover_description\"><div class=\"rollover_description_inner\">A new paper suggests that liquid water may be sitting under a layer of ice at Mars' south pole.</div><div class=\"overlay_arrow\"><img alt=\"More\" src=\"/assets/overlay-arrow.png\"/></div></div><div class=\"list_image\"><img alt=\"A new paper suggests that liquid water may be sitting under a layer of ice at Mars' south pole.\" src=\"/system/news_items/list_view_images/8357_Screen-Shot-2018-07-25-at-4.24_320x240.jpg\"/></div><div class=\"bottom_gradient\"><div><h3>NASA Statement on Possible Subsurface Lake near Martian South Pole</h3></div></div></a><div class=\"list_text\"><div class=\"list_date\">July 25, 2018</div><div class=\"content_title\"><a href=\"/news/8357/nasa-statement-on-possible-subsurface-lake-near-martian-south-pole/\" target=\"_self\">NASA Statement on Possible Subsurface Lake near Martian South Pole</a></div><div class=\"article_teaser_body\">A new paper suggests that liquid water may be sitting under a layer of ice at Mars' south pole.</div></div></div></li>,\n",
       " <li class=\"slide\"><div class=\"image_and_description_container\"><a href=\"/news/8356/jpls-martians-are-coming-to-griffith-observatory/\" target=\"_self\"><div class=\"rollover_description\"><div class=\"rollover_description_inner\">On July 30, when Mars and Earth are closer than they've been since 2003, JPL scientists and engineers will be at a free public event at Griffith Observatory in Los Angeles.</div><div class=\"overlay_arrow\"><img alt=\"More\" src=\"/assets/overlay-arrow.png\"/></div></div><div class=\"list_image\"><img alt=\"Griffith Observatory in Los Angeles.\" src=\"/system/news_items/list_view_images/8356_21969_griffith_observatory_mars_320.jpg\"/></div><div class=\"bottom_gradient\"><div><h3>JPL's 'Martians' Are Coming to Griffith Observatory</h3></div></div></a><div class=\"list_text\"><div class=\"list_date\">July 25, 2018</div><div class=\"content_title\"><a href=\"/news/8356/jpls-martians-are-coming-to-griffith-observatory/\" target=\"_self\">JPL's 'Martians' Are Coming to Griffith Observatory</a></div><div class=\"article_teaser_body\">On July 30, when Mars and Earth are closer than they've been since 2003, JPL scientists and engineers will be at a free public event at Griffith Observatory in Los Angeles.</div></div></div></li>,\n",
       " <li class=\"slide\"><div class=\"image_and_description_container\"><a href=\"/news/8355/nasas-maven-spacecraft-finds-that-stolen-electrons-enable-unusual-aurora-on-mars/\" target=\"_self\"><div class=\"rollover_description\"><div class=\"rollover_description_inner\">Auroras appear on Earth as ghostly displays of colorful light in the night sky, usually near the poles.</div><div class=\"overlay_arrow\"><img alt=\"More\" src=\"/assets/overlay-arrow.png\"/></div></div><div class=\"list_image\"><img alt=\"Animation of Proton Aurora at Mars\" src=\"/system/news_items/list_view_images/8355_marsprotonauroramovie-320x240.gif\"/></div><div class=\"bottom_gradient\"><div><h3>NASA's MAVEN Spacecraft Finds That 'Stolen' Electrons Enable Unusual Aurora on Mars</h3></div></div></a><div class=\"list_text\"><div class=\"list_date\">July 23, 2018</div><div class=\"content_title\"><a href=\"/news/8355/nasas-maven-spacecraft-finds-that-stolen-electrons-enable-unusual-aurora-on-mars/\" target=\"_self\">NASA's MAVEN Spacecraft Finds That 'Stolen' Electrons Enable Unusual Aurora on Mars</a></div><div class=\"article_teaser_body\">Auroras appear on Earth as ghostly displays of colorful light in the night sky, usually near the poles.</div></div></div></li>,\n",
       " <li class=\"slide\"><div class=\"image_and_description_container\"><a href=\"/news/8354/storm-chasers-on-mars-searching-for-dusty-secrets/\" target=\"_self\"><div class=\"rollover_description\"><div class=\"rollover_description_inner\">Scientists with NASA's Mars orbiters have been waiting years for an event like the current Mars global dust storm.</div><div class=\"overlay_arrow\"><img alt=\"More\" src=\"/assets/overlay-arrow.png\"/></div></div><div class=\"list_image\"><img alt=\"\" src=\"/system/news_items/list_view_images/8354_Mars_Dust_Storm_PIA22487_thumb.jpg\"/></div><div class=\"bottom_gradient\"><div><h3>'Storm Chasers' on Mars Searching for Dusty Secrets</h3></div></div></a><div class=\"list_text\"><div class=\"list_date\">July 19, 2018</div><div class=\"content_title\"><a href=\"/news/8354/storm-chasers-on-mars-searching-for-dusty-secrets/\" target=\"_self\">'Storm Chasers' on Mars Searching for Dusty Secrets</a></div><div class=\"article_teaser_body\">Scientists with NASA's Mars orbiters have been waiting years for an event like the current Mars global dust storm.</div></div></div></li>,\n",
       " <li class=\"slide\"><div class=\"image_and_description_container\"><a href=\"/news/8353/nasa-mars-mission-adds-southern-california-dates/\" target=\"_self\"><div class=\"rollover_description\"><div class=\"rollover_description_inner\">Looking for summer fun? Southern California families have their choice of the beach, movies, museums -- and even NASA's next mission to Mars.</div><div class=\"overlay_arrow\"><img alt=\"More\" src=\"/assets/overlay-arrow.png\"/></div></div><div class=\"list_image\"><img alt=\"The Mars InSight Roadshow van at San Francisco's Exploratorium in April 2018. The Roadshow van will stop at different California venues to share public exhibits and lectures about NASA's InSight mission. \" src=\"/system/news_items/list_view_images/8353_list_image.jpg\"/></div><div class=\"bottom_gradient\"><div><h3>NASA Mars Mission Adds Southern California Dates</h3></div></div></a><div class=\"list_text\"><div class=\"list_date\">June 26, 2018</div><div class=\"content_title\"><a href=\"/news/8353/nasa-mars-mission-adds-southern-california-dates/\" target=\"_self\">NASA Mars Mission Adds Southern California Dates</a></div><div class=\"article_teaser_body\">Looking for summer fun? Southern California families have their choice of the beach, movies, museums -- and even NASA's next mission to Mars.</div></div></div></li>,\n",
       " <li class=\"slide\"><div class=\"image_and_description_container\"><a href=\"/news/8351/curiosity-captures-photos-of-thickening-dust/\" target=\"_self\"><div class=\"rollover_description\"><div class=\"rollover_description_inner\">A storm of tiny dust particles has engulfed much of Mars over the last two weeks.</div><div class=\"overlay_arrow\"><img alt=\"More\" src=\"/assets/overlay-arrow.png\"/></div></div><div class=\"list_image\"><img alt=\"A self-portrait by NASA's Curiosity rover taken on Sol 2082 (June 15, 2018). A Martian dust storm has reduced sunlight and visibility at the rover's location in Gale Crater. \" src=\"/system/news_items/list_view_images/8351_PIA22486-320.jpg\"/></div><div class=\"bottom_gradient\"><div><h3>Curiosity Captures Photos of Thickening Dust</h3></div></div></a><div class=\"list_text\"><div class=\"list_date\">June 20, 2018</div><div class=\"content_title\"><a href=\"/news/8351/curiosity-captures-photos-of-thickening-dust/\" target=\"_self\">Curiosity Captures Photos of Thickening Dust</a></div><div class=\"article_teaser_body\">A storm of tiny dust particles has engulfed much of Mars over the last two weeks.</div></div></div></li>,\n",
       " <li class=\"slide\"><div class=\"image_and_description_container\"><a href=\"/news/8350/nasa-encounters-the-perfect-storm-for-science/\" target=\"_self\"><div class=\"rollover_description\"><div class=\"rollover_description_inner\">One of the most intense Martian dust storms ever observed is being studied by a record number of NASA spacecraft.</div><div class=\"overlay_arrow\"><img alt=\"More\" src=\"/assets/overlay-arrow.png\"/></div></div><div class=\"list_image\"><img alt=\"This set of images from NASA’s Mars Reconnaissance Orbiter shows a fierce dust storm is kicking up on Mars, with rovers on the surface indicated as icons.\" src=\"/system/news_items/list_view_images/8350_marci-dgm-v04-for-home-page-5-br.gif\"/></div><div class=\"bottom_gradient\"><div><h3>NASA Encounters the Perfect Storm for Science</h3></div></div></a><div class=\"list_text\"><div class=\"list_date\">June 13, 2018</div><div class=\"content_title\"><a href=\"/news/8350/nasa-encounters-the-perfect-storm-for-science/\" target=\"_self\">NASA Encounters the Perfect Storm for Science</a></div><div class=\"article_teaser_body\">One of the most intense Martian dust storms ever observed is being studied by a record number of NASA spacecraft.</div></div></div></li>,\n",
       " <li class=\"slide\"><div class=\"image_and_description_container\"><a href=\"/news/8349/media-telecon-about-mars-dust-storm-opportunity/\" target=\"_self\"><div class=\"rollover_description\"><div class=\"rollover_description_inner\">NASA will host a media telecon on Wednesday, June 13, about a massive Martian dust storm affecting the Opportunity rover, and how various missions can obtain unique science.</div><div class=\"overlay_arrow\"><img alt=\"More\" src=\"/assets/overlay-arrow.png\"/></div></div><div class=\"list_image\"><img alt=\"Mars, as seen by Mars Global Surveyor in 2003.\" src=\"/system/news_items/list_view_images/8349_PIA04591-br.jpg\"/></div><div class=\"bottom_gradient\"><div><h3>Media Telecon About Mars Dust Storm, Opportunity</h3></div></div></a><div class=\"list_text\"><div class=\"list_date\">June 12, 2018</div><div class=\"content_title\"><a href=\"/news/8349/media-telecon-about-mars-dust-storm-opportunity/\" target=\"_self\">Media Telecon About Mars Dust Storm, Opportunity</a></div><div class=\"article_teaser_body\">NASA will host a media telecon on Wednesday, June 13, about a massive Martian dust storm affecting the Opportunity rover, and how various missions can obtain unique science.</div></div></div></li>,\n",
       " <li class=\"slide\"><div class=\"image_and_description_container\"><a href=\"/news/8347/nasa-finds-ancient-organic-material-mysterious-methane-on-mars/\" target=\"_self\"><div class=\"rollover_description\"><div class=\"rollover_description_inner\">NASA’s Curiosity rover has found evidence on Mars with implications for NASA’s search for life.</div><div class=\"overlay_arrow\"><img alt=\"More\" src=\"/assets/overlay-arrow.png\"/></div></div><div class=\"list_image\"><img alt=\"​​NASA's Curiosity rover has discovered ancient organic molecules on Mars, embedded within sedimentary rocks that are billions of years old.\" src=\"/system/news_items/list_view_images/8347_curiosity_methane-320.jpg\"/></div><div class=\"bottom_gradient\"><div><h3>NASA Finds Ancient Organic Material, Mysterious Methane on Mars</h3></div></div></a><div class=\"list_text\"><div class=\"list_date\">June  7, 2018</div><div class=\"content_title\"><a href=\"/news/8347/nasa-finds-ancient-organic-material-mysterious-methane-on-mars/\" target=\"_self\">NASA Finds Ancient Organic Material, Mysterious Methane on Mars</a></div><div class=\"article_teaser_body\">NASA’s Curiosity rover has found evidence on Mars with implications for NASA’s search for life.</div></div></div></li>,\n",
       " <li class=\"slide\"><div class=\"image_and_description_container\"><a href=\"/news/8346/nasa-to-host-live-discussion-on-new-mars-science-results/\" target=\"_self\"><div class=\"rollover_description\"><div class=\"rollover_description_inner\">Questions are welcome during a live discussion at 11 a.m. PDT (2 p.m. EDT) Thursday, June 7, on new science results from NASA's Mars Curiosity rover.</div><div class=\"overlay_arrow\"><img alt=\"More\" src=\"/assets/overlay-arrow.png\"/></div></div><div class=\"list_image\"><img alt=\"Selfie of the Curiosity rover\" src=\"/system/news_items/list_view_images/8346_PIA22207-br.png\"/></div><div class=\"bottom_gradient\"><div><h3>NASA to Host Live Discussion on New Mars Science Results</h3></div></div></a><div class=\"list_text\"><div class=\"list_date\">June  6, 2018</div><div class=\"content_title\"><a href=\"/news/8346/nasa-to-host-live-discussion-on-new-mars-science-results/\" target=\"_self\">NASA to Host Live Discussion on New Mars Science Results</a></div><div class=\"article_teaser_body\">Questions are welcome during a live discussion at 11 a.m. PDT (2 p.m. EDT) Thursday, June 7, on new science results from NASA's Mars Curiosity rover.</div></div></div></li>,\n",
       " <li class=\"slide\"><div class=\"image_and_description_container\"><a href=\"/news/8345/mars-curiositys-labs-are-back-in-action/\" target=\"_self\"><div class=\"rollover_description\"><div class=\"rollover_description_inner\">NASA's Curiosity rover is analyzing drilled samples on Mars in one of its onboard labs for the first time in more than a year.</div><div class=\"overlay_arrow\"><img alt=\"More\" src=\"/assets/overlay-arrow.png\"/></div></div><div class=\"list_image\"><img alt=\"The drill bit of NASA's Curiosity Mars rover over one of the sample inlets on the rover's deck. The inlets lead to Curiosity's onboard laboratories. This image was taken on Sol 2068 by the rover's Mast Camera (Mastcam). It has been white balanced and contrast-enhanced. \" src=\"/system/news_items/list_view_images/8345_PIA22327-br.jpg\"/></div><div class=\"bottom_gradient\"><div><h3>Mars Curiosity's Labs Are Back in Action</h3></div></div></a><div class=\"list_text\"><div class=\"list_date\">June  4, 2018</div><div class=\"content_title\"><a href=\"/news/8345/mars-curiositys-labs-are-back-in-action/\" target=\"_self\">Mars Curiosity's Labs Are Back in Action</a></div><div class=\"article_teaser_body\">NASA's Curiosity rover is analyzing drilled samples on Mars in one of its onboard labs for the first time in more than a year.</div></div></div></li>,\n",
       " <li class=\"slide\"><div class=\"image_and_description_container\"><a href=\"/news/8344/nasa-cubesats-steer-toward-mars/\" target=\"_self\"><div class=\"rollover_description\"><div class=\"rollover_description_inner\">NASA has achieved a first for the class of tiny spacecraft known as CubeSats, which are opening new access to space.</div><div class=\"overlay_arrow\"><img alt=\"More\" src=\"/assets/overlay-arrow.png\"/></div></div><div class=\"list_image\"><img alt=\"An artist's concept of one of NASA's MarCO CubeSats. \" src=\"/system/news_items/list_view_images/8344_marco_tcm_20180601-320x240.jpg\"/></div><div class=\"bottom_gradient\"><div><h3>NASA CubeSats Steer Toward Mars</h3></div></div></a><div class=\"list_text\"><div class=\"list_date\">June  1, 2018</div><div class=\"content_title\"><a href=\"/news/8344/nasa-cubesats-steer-toward-mars/\" target=\"_self\">NASA CubeSats Steer Toward Mars</a></div><div class=\"article_teaser_body\">NASA has achieved a first for the class of tiny spacecraft known as CubeSats, which are opening new access to space.</div></div></div></li>]"
      ]
     },
     "execution_count": 5,
     "metadata": {},
     "output_type": "execute_result"
    }
   ],
   "source": [
    "articles = soup.find_all('li',class_='slide')"
   ]
  },
  {
   "cell_type": "code",
   "execution_count": 6,
   "metadata": {},
   "outputs": [
    {
     "data": {
      "text/plain": [
       "'NASA to Host Media Call on Next Mars Landing Site'"
      ]
     },
     "execution_count": 6,
     "metadata": {},
     "output_type": "execute_result"
    }
   ],
   "source": [
    "news_title = articles[0].find('div',class_='content_title').find('a').contents[0]"
   ]
  },
  {
   "cell_type": "code",
   "execution_count": 7,
   "metadata": {},
   "outputs": [
    {
     "data": {
      "text/plain": [
       "'NASA will host a media teleconference at 9 a.m. PST (noon EST) Monday, Nov. 19, to provide details about the Mars 2020 rover’s landing site on the Red Planet.'"
      ]
     },
     "execution_count": 7,
     "metadata": {},
     "output_type": "execute_result"
    }
   ],
   "source": [
    "news_p = articles[0].find('div',class_='article_teaser_body').contents[0]"
   ]
  },
  {
   "cell_type": "code",
   "execution_count": 8,
   "metadata": {
    "scrolled": true
   },
   "outputs": [],
   "source": [
    "base_url = 'https://www.jpl.nasa.gov'\n",
    "jpl_url = base_url + '/spaceimages/?search=&category=Mars'\n",
    "\n",
    "browser.visit(jpl_url)\n",
    "browser.click_link_by_partial_text('FULL IMAGE')\n",
    "\n",
    "html = browser.html\n",
    "soup = BeautifulSoup(html, 'html.parser')"
   ]
  },
  {
   "cell_type": "code",
   "execution_count": 9,
   "metadata": {},
   "outputs": [],
   "source": [
    "time.sleep(5)"
   ]
  },
  {
   "cell_type": "code",
   "execution_count": 10,
   "metadata": {},
   "outputs": [
    {
     "data": {
      "text/plain": [
       "'https://www.jpl.nasa.gov/spaceimages/images/mediumsize/PIA14106_ip.jpg'"
      ]
     },
     "execution_count": 10,
     "metadata": {},
     "output_type": "execute_result"
    }
   ],
   "source": [
    "img_url = soup.find('a',class_='button fancybox').get('data-fancybox-href')\n",
    "featured_image_url = base_url + img_url"
   ]
  },
  {
   "cell_type": "code",
   "execution_count": 11,
   "metadata": {},
   "outputs": [],
   "source": [
    "base_url = 'https://twitter.com'\n",
    "twitter_url = base_url + '/marswxreport?lang=en'\n",
    "\n",
    "browser.visit(twitter_url)\n",
    "\n",
    "html = browser.html\n",
    "soup = BeautifulSoup(html, 'html.parser')"
   ]
  },
  {
   "cell_type": "code",
   "execution_count": 12,
   "metadata": {},
   "outputs": [],
   "source": [
    "time.sleep(5)"
   ]
  },
  {
   "cell_type": "code",
   "execution_count": 13,
   "metadata": {},
   "outputs": [
    {
     "data": {
      "text/plain": [
       "'Sol 2230 (2018-11-14), high -5C/23F, low -72C/-97F, pressure at 8.59 hPa, daylight 06:22-18:39'"
      ]
     },
     "execution_count": 13,
     "metadata": {},
     "output_type": "execute_result"
    }
   ],
   "source": [
    "mars_weather = soup.find('p',class_='TweetTextSize TweetTextSize--normal js-tweet-text tweet-text').contents[0]"
   ]
  },
  {
   "cell_type": "code",
   "execution_count": 14,
   "metadata": {},
   "outputs": [],
   "source": [
    "mars_url = 'https://space-facts.com/mars/'\n",
    "\n",
    "html = browser.html\n",
    "soup = BeautifulSoup(html, 'html.parser')\n",
    "\n",
    "table = pd.read_html(mars_url)"
   ]
  },
  {
   "cell_type": "code",
   "execution_count": 15,
   "metadata": {},
   "outputs": [
    {
     "data": {
      "text/plain": [
       "'<table border=\"1\" class=\"dataframe\">\\n  <thead>\\n    <tr style=\"text-align: right;\">\\n      <th></th>\\n      <th>key</th>\\n      <th>value</th>\\n    </tr>\\n  </thead>\\n  <tbody>\\n    <tr>\\n      <th>0</th>\\n      <td>Equatorial Diameter:</td>\\n      <td>6,792 km</td>\\n    </tr>\\n    <tr>\\n      <th>1</th>\\n      <td>Polar Diameter:</td>\\n      <td>6,752 km</td>\\n    </tr>\\n    <tr>\\n      <th>2</th>\\n      <td>Mass:</td>\\n      <td>6.42 x 10^23 kg (10.7% Earth)</td>\\n    </tr>\\n    <tr>\\n      <th>3</th>\\n      <td>Moons:</td>\\n      <td>2 (Phobos &amp; Deimos)</td>\\n    </tr>\\n    <tr>\\n      <th>4</th>\\n      <td>Orbit Distance:</td>\\n      <td>227,943,824 km (1.52 AU)</td>\\n    </tr>\\n    <tr>\\n      <th>5</th>\\n      <td>Orbit Period:</td>\\n      <td>687 days (1.9 years)</td>\\n    </tr>\\n    <tr>\\n      <th>6</th>\\n      <td>Surface Temperature:</td>\\n      <td>-153 to 20 °C</td>\\n    </tr>\\n    <tr>\\n      <th>7</th>\\n      <td>First Record:</td>\\n      <td>2nd millennium BC</td>\\n    </tr>\\n    <tr>\\n      <th>8</th>\\n      <td>Recorded By:</td>\\n      <td>Egyptian astronomers</td>\\n    </tr>\\n  </tbody>\\n</table>'"
      ]
     },
     "execution_count": 15,
     "metadata": {},
     "output_type": "execute_result"
    }
   ],
   "source": [
    "df= table[0]\n",
    "df.columns = ['key','value']\n",
    "html_table = df.to_html()"
   ]
  },
  {
   "cell_type": "code",
   "execution_count": 16,
   "metadata": {},
   "outputs": [],
   "source": [
    "base_url = 'https://astrogeology.usgs.gov'\n",
    "usgs_url = base_url + '/search/results?q=hemisphere+enhanced&k1=target&v1=Mars'\n",
    "\n",
    "browser.visit(usgs_url)\n",
    "\n",
    "html = browser.html\n",
    "soup = BeautifulSoup(html, 'html.parser')"
   ]
  },
  {
   "cell_type": "code",
   "execution_count": 17,
   "metadata": {},
   "outputs": [],
   "source": [
    "time.sleep(5)"
   ]
  },
  {
   "cell_type": "code",
   "execution_count": 18,
   "metadata": {},
   "outputs": [],
   "source": [
    "linklist = []\n",
    "usgslinks = soup.find_all('a',class_='itemLink product-item')\n",
    "\n",
    "for link in usgslinks:\n",
    "    linklist.append(base_url + link.get('href'))\n",
    "    \n",
    "linklist = list(set(linklist))"
   ]
  },
  {
   "cell_type": "code",
   "execution_count": 19,
   "metadata": {},
   "outputs": [
    {
     "data": {
      "text/plain": [
       "[{'title': 'Valles Marineris Hemisphere Enhanced',\n",
       "  'img_url': 'http://astropedia.astrogeology.usgs.gov/download/Mars/Viking/valles_marineris_enhanced.tif/full.jpg'},\n",
       " {'title': 'Cerberus Hemisphere Enhanced',\n",
       "  'img_url': 'http://astropedia.astrogeology.usgs.gov/download/Mars/Viking/cerberus_enhanced.tif/full.jpg'},\n",
       " {'title': 'Syrtis Major Hemisphere Enhanced',\n",
       "  'img_url': 'http://astropedia.astrogeology.usgs.gov/download/Mars/Viking/syrtis_major_enhanced.tif/full.jpg'},\n",
       " {'title': 'Schiaparelli Hemisphere Enhanced',\n",
       "  'img_url': 'http://astropedia.astrogeology.usgs.gov/download/Mars/Viking/schiaparelli_enhanced.tif/full.jpg'}]"
      ]
     },
     "execution_count": 19,
     "metadata": {},
     "output_type": "execute_result"
    }
   ],
   "source": [
    "hemisphere_image_urls = []\n",
    "for link in linklist:\n",
    "    browser.visit(link)\n",
    "\n",
    "    html = browser.html\n",
    "    soup = BeautifulSoup(html, 'html.parser')\n",
    "    \n",
    "    title = soup.find('h2').contents[0]\n",
    "    img_url = soup.find_all('a',target=\"_blank\")[0].get('href')\n",
    "    \n",
    "    img_dict = {'title':title,\n",
    "                'img_url':img_url}\n",
    "    \n",
    "    hemisphere_image_urls.append(img_dict)"
   ]
  },
  {
   "cell_type": "code",
   "execution_count": 20,
   "metadata": {},
   "outputs": [
    {
     "data": {
      "text/plain": [
       "{'news_title': 'NASA to Host Media Call on Next Mars Landing Site',\n",
       " 'news_p': 'NASA will host a media teleconference at 9 a.m. PST (noon EST) Monday, Nov. 19, to provide details about the Mars 2020 rover’s landing site on the Red Planet.',\n",
       " 'featured_image_url': 'https://www.jpl.nasa.gov/spaceimages/images/mediumsize/PIA14106_ip.jpg',\n",
       " 'mars_weather': 'Sol 2230 (2018-11-14), high -5C/23F, low -72C/-97F, pressure at 8.59 hPa, daylight 06:22-18:39',\n",
       " 'hemisphere_image_urls': [{'title': 'Valles Marineris Hemisphere Enhanced',\n",
       "   'img_url': 'http://astropedia.astrogeology.usgs.gov/download/Mars/Viking/valles_marineris_enhanced.tif/full.jpg'},\n",
       "  {'title': 'Cerberus Hemisphere Enhanced',\n",
       "   'img_url': 'http://astropedia.astrogeology.usgs.gov/download/Mars/Viking/cerberus_enhanced.tif/full.jpg'},\n",
       "  {'title': 'Syrtis Major Hemisphere Enhanced',\n",
       "   'img_url': 'http://astropedia.astrogeology.usgs.gov/download/Mars/Viking/syrtis_major_enhanced.tif/full.jpg'},\n",
       "  {'title': 'Schiaparelli Hemisphere Enhanced',\n",
       "   'img_url': 'http://astropedia.astrogeology.usgs.gov/download/Mars/Viking/schiaparelli_enhanced.tif/full.jpg'}]}"
      ]
     },
     "execution_count": 20,
     "metadata": {},
     "output_type": "execute_result"
    }
   ],
   "source": [
    "mars_mongo_dict = {'news_title':news_title,\n",
    "                   'news_p':news_p,\n",
    "                   'featured_image_url':featured_image_url,\n",
    "                   'mars_weather':mars_weather,\n",
    "                   'hemisphere_image_urls':hemisphere_image_urls}\n",
    "mars_mongo_dict"
   ]
  }
 ],
 "metadata": {
  "kernelspec": {
   "display_name": "Python 3",
   "language": "python",
   "name": "python3"
  },
  "language_info": {
   "codemirror_mode": {
    "name": "ipython",
    "version": 3
   },
   "file_extension": ".py",
   "mimetype": "text/x-python",
   "name": "python",
   "nbconvert_exporter": "python",
   "pygments_lexer": "ipython3",
   "version": "3.6.5"
  }
 },
 "nbformat": 4,
 "nbformat_minor": 2
}
